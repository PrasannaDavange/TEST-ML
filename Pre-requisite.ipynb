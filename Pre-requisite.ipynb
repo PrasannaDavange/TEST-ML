{
 "cells": [
  {
   "cell_type": "markdown",
   "id": "435635c3-0233-4ccd-95c0-1bc9a1f40bf8",
   "metadata": {},
   "source": [
    "Number of multiplications will be \"n x m x k\"\n",
    "Number of additions will be \"n x m x (k-1)\"\n"
   ]
  },
  {
   "cell_type": "code",
   "execution_count": 11,
   "id": "7ebd6688-d90e-45b7-ad03-e27df1bd7881",
   "metadata": {},
   "outputs": [
    {
     "name": "stdout",
     "output_type": "stream",
     "text": [
      "Matrix A:\n",
      "[[5, 7, 8, 3], [2, 4, 5, 9], [5, 1, 3, 8]]\n",
      "Matrix B:\n",
      "[[4, 6], [4, 9], [5, 9], [4, 2]]\n",
      "Resultant Matrix:\n",
      "[[100, 171], [85, 111], [71, 82]]\n",
      "Elapsed Time: 0.000000 seconds\n",
      "Matrix A (NumPy):\n",
      "[[5 7 8 3]\n",
      " [2 4 5 9]\n",
      " [5 1 3 8]]\n",
      "Matrix B (NumPy):\n",
      "[[4 6]\n",
      " [4 9]\n",
      " [5 9]\n",
      " [4 2]]\n",
      "Resultant Matrix from NumPy:\n",
      "[[100 171]\n",
      " [ 85 111]\n",
      " [ 71  82]]\n",
      "Elapsed Time for NumPy: 0.000000 seconds\n",
      "Time Difference: 0.000000 seconds\n"
     ]
    }
   ],
   "source": [
    "\n",
    "import random\n",
    "import time\n",
    "import numpy as np\n",
    "\n",
    "rows_A = 3\n",
    "cols_A = 4\n",
    "cols_B = 2\n",
    "\n",
    "def create_matrix(num_rows, num_cols):\n",
    "    return [random.sample(range(1, 10), num_cols) for _ in range(num_rows)]\n",
    "\n",
    "matrix_A = create_matrix(rows_A, cols_A)\n",
    "matrix_B = create_matrix(cols_A, cols_B)\n",
    "\n",
    "print(\"Matrix A:\")\n",
    "print(matrix_A)\n",
    "print(\"Matrix B:\")\n",
    "print(matrix_B)\n",
    "\n",
    "def matrix_multiply(matrix_A, matrix_B):\n",
    "    num_rows_A = len(matrix_A)\n",
    "    num_cols_A = len(matrix_A[0])\n",
    "    num_rows_B = len(matrix_B)\n",
    "    num_cols_B = len(matrix_B[0])\n",
    "\n",
    "    if num_cols_A != num_rows_B:\n",
    "        return -1\n",
    "    \n",
    "    result_matrix = [[0 for _ in range(num_cols_B)] for _ in range(num_rows_A)]\n",
    "    \n",
    "    for i in range(num_rows_A):\n",
    "        for j in range(num_cols_B):\n",
    "            for k in range(num_cols_A):\n",
    "                result_matrix[i][j] += matrix_A[i][k] * matrix_B[k][j]\n",
    "\n",
    "    return result_matrix\n",
    "\n",
    "start_time = time.time()\n",
    "result_matrix = matrix_multiply(matrix_A, matrix_B)\n",
    "end_time = time.time()\n",
    "\n",
    "print(\"Resultant Matrix:\")\n",
    "print(result_matrix)\n",
    "time_python = end_time - start_time\n",
    "print(f\"Elapsed Time: {time_python:.6f} seconds\")\n",
    "\n",
    "mat_A_np = np.array(matrix_A)\n",
    "mat_B_np = np.array(matrix_B)\n",
    "print(\"Matrix A (NumPy):\")\n",
    "print(mat_A_np)\n",
    "print(\"Matrix B (NumPy):\")\n",
    "print(mat_B_np)\n",
    "\n",
    "start_time = time.time()\n",
    "res_Mat_np = np.dot(mat_A_np, mat_B_np)\n",
    "end_time = time.time()\n",
    "\n",
    "print(\"Resultant Matrix from NumPy:\")\n",
    "print(res_Mat_np)\n",
    "time_numpy = end_time - start_time\n",
    "print(f\"Elapsed Time for NumPy: {time_numpy:.6f} seconds\")\n",
    "\n",
    "time_difference = time_numpy - time_python\n",
    "print(f\"Time Difference: {time_difference:.6f} seconds\")\n"
   ]
  },
  {
   "cell_type": "code",
   "execution_count": 12,
   "id": "5e05b3bc-b370-4444-ada8-4ab8f00c186e",
   "metadata": {},
   "outputs": [
    {
     "name": "stdout",
     "output_type": "stream",
     "text": [
      "Analytical Gradient: (12.0, 51.0)\n",
      "JAX Gradient: (Array(12., dtype=float32, weak_type=True), Array(51., dtype=float32, weak_type=True))\n"
     ]
    }
   ],
   "source": [
    "import jax\n",
    "import jax.numpy as jnp\n",
    "\n",
    "def f(x, y):\n",
    "    return 3 * x**2 * y + 4 * y**3\n",
    "\n",
    "grad_f = jax.grad(f, argnums=(0, 1))\n",
    "\n",
    "x, y = 1.0, 2.0\n",
    "\n",
    "grad_analytical = (6 * x * y, 3 * x**2 + 12 * y**2)\n",
    "grad_jax = grad_f(x, y)\n",
    "\n",
    "print(f\"Analytical Gradient: {grad_analytical}\")\n",
    "print(f\"JAX Gradient: {grad_jax}\")\n"
   ]
  },
  {
   "cell_type": "markdown",
   "id": "18219953-5b1b-4c60-ad1e-ae040bc9d646",
   "metadata": {},
   "source": [
    "Q4. What is the gradient of the following function with respect to x and y? x^2y + y^3sin(x)\n",
    "\n",
    "(x^2)*y + (y^3)sin(x)\n",
    "\n",
    "gradient with respect to x 2xy + (y^3)cos(x)\n",
    "\n",
    "gradient with respect to y x^2 + 3*(y^2)sin(x)\n",
    "\n",
    "Gradient of {(x^2)y + (y^3)sin(x)} = (2xy + (y^3)cos(x), x^2 + 3(y^2)sin(x))"
   ]
  },
  {
   "cell_type": "markdown",
   "id": "1d625659-dae2-4b3e-84f3-70fe35fa75f4",
   "metadata": {},
   "source": [
    "Q7"
   ]
  },
  {
   "cell_type": "code",
   "execution_count": 13,
   "id": "bb9145b0-ae7a-4119-9c02-ec1cf76d9407",
   "metadata": {},
   "outputs": [
    {
     "data": {
      "text/plain": [
       "{2022: {'Branch 1': {1: {'Roll Number': 1,\n",
       "    'Name': 'N',\n",
       "    'Marks': {'Maths': 100, 'English': 70}}},\n",
       "  'Branch 2': {}},\n",
       " 2023: {'Branch 1': {}, 'Branch 2': {}},\n",
       " 2024: {'Branch 1': {}, 'Branch 2': {}},\n",
       " 2025: {'Branch 1': {}, 'Branch 2': {}}}"
      ]
     },
     "execution_count": 13,
     "metadata": {},
     "output_type": "execute_result"
    }
   ],
   "source": [
    "\n",
    "\n",
    "dict = {\n",
    "    2022: {\n",
    "        'Branch 1': {\n",
    "            1: {\n",
    "               'Roll Number': 1,\n",
    "                'Name': 'N',\n",
    "                'Marks': {\n",
    "                    'Maths': 100,\n",
    "                    'English': 70\n",
    "                }\n",
    "            }\n",
    "        },\n",
    "        'Branch 2': {}\n",
    "    } ,\n",
    "    2023:{\n",
    "        'Branch 1': {},\n",
    "        'Branch 2': {}\n",
    "    },\n",
    "    2024:{\n",
    "        'Branch 1': {},\n",
    "        'Branch 2': {}\n",
    "    },\n",
    "    2025:{\n",
    "        'Branch 1': {},\n",
    "        'Branch 2': {}\n",
    "    }\n",
    "}\n",
    "dict"
   ]
  },
  {
   "cell_type": "markdown",
   "id": "aa3ce109-3b54-4cbf-b6fb-cf8153e9577f",
   "metadata": {},
   "source": [
    "Q8"
   ]
  },
  {
   "cell_type": "code",
   "execution_count": 14,
   "id": "079b4c22-e4f0-4621-aabf-e90c9e35393d",
   "metadata": {},
   "outputs": [
    {
     "name": "stdout",
     "output_type": "stream",
     "text": [
      "2022\n",
      "    Branch 1\n",
      "        Roll Number: 1, Name: N, Marks: {'Maths': 100, 'English': 70}\n",
      "    Branch 2\n",
      "2023\n",
      "    Branch 1\n",
      "    Branch 2\n",
      "2024\n",
      "    Branch 1\n",
      "    Branch 2\n",
      "2025\n",
      "    Branch 1\n",
      "    Branch 2\n"
     ]
    }
   ],
   "source": [
    "\n",
    "\n",
    "class Student:\n",
    "    def __init__(self, roll_number, name):\n",
    "        self.roll_number = roll_number\n",
    "        self.name = name\n",
    "        self.marks = {}\n",
    "\n",
    "    def set_mark(self, subject, mark):\n",
    "        self.marks[subject] = mark\n",
    "\n",
    "\n",
    "class Branch:\n",
    "    def __init__(self, name):\n",
    "        self.name = name\n",
    "        self.students = []\n",
    "\n",
    "    def enroll_student(self, student):\n",
    "        self.students.append(student)\n",
    "\n",
    "\n",
    "class Year:\n",
    "    def __init__(self, year):\n",
    "        self.year = year\n",
    "        self.branches = []\n",
    "\n",
    "    def add_branch(self, branch):\n",
    "        self.branches.append(branch)\n",
    "\n",
    "\n",
    "year_2022 = Year(2022)\n",
    "\n",
    "branch_1_2022 = Branch(\"Branch 1\")\n",
    "student_1_2022 = Student(1, \"N\")\n",
    "student_1_2022.set_mark(\"Maths\", 100)\n",
    "student_1_2022.set_mark(\"English\", 70)\n",
    "branch_1_2022.enroll_student(student_1_2022)\n",
    "\n",
    "branch_2_2022 = Branch(\"Branch 2\")\n",
    "\n",
    "year_2022.add_branch(branch_1_2022)\n",
    "year_2022.add_branch(branch_2_2022)\n",
    "\n",
    "year_2023 = Year(2023)\n",
    "branch_1_2023 = Branch(\"Branch 1\")\n",
    "branch_2_2023 = Branch(\"Branch 2\")\n",
    "year_2023.add_branch(branch_1_2023)\n",
    "year_2023.add_branch(branch_2_2023)\n",
    "\n",
    "year_2024 = Year(2024)\n",
    "branch_1_2024 = Branch(\"Branch 1\")\n",
    "branch_2_2024 = Branch(\"Branch 2\")\n",
    "year_2024.add_branch(branch_1_2024)\n",
    "year_2024.add_branch(branch_2_2024)\n",
    "\n",
    "year_2025 = Year(2025)\n",
    "branch_1_2025 = Branch(\"Branch 1\")\n",
    "branch_2_2025 = Branch(\"Branch 2\")\n",
    "year_2025.add_branch(branch_1_2025)\n",
    "year_2025.add_branch(branch_2_2025)\n",
    "\n",
    "database = [year_2022, year_2023, year_2024, year_2025]\n",
    "\n",
    "for year in database:\n",
    "    print(year.year)\n",
    "    for branch in year.branches:\n",
    "        print(f\"    {branch.name}\")\n",
    "        for student in branch.students:\n",
    "            print(f\"        Roll Number: {student.roll_number}, Name: {student.name}, Marks: {student.marks}\")"
   ]
  },
  {
   "cell_type": "markdown",
   "id": "450da19d-f4b0-40a4-ac74-9732f53593db",
   "metadata": {},
   "source": [
    "Q12"
   ]
  },
  {
   "cell_type": "code",
   "execution_count": 15,
   "id": "d2c9fdf5-f4ca-4575-9489-c4f735b3cead",
   "metadata": {},
   "outputs": [
    {
     "name": "stdout",
     "output_type": "stream",
     "text": [
      "Matrix:\n",
      "[[1 2 3]\n",
      " [4 5 6]\n",
      " [7 8 9]]\n",
      "\n",
      "Vector:\n",
      "[10 20 30]\n",
      "\n",
      "Result of broadcasting:\n",
      "[[11 22 33]\n",
      " [14 25 36]\n",
      " [17 28 39]]\n"
     ]
    }
   ],
   "source": [
    "\n",
    "import numpy as np\n",
    "\n",
    "matrix = np.array([[1, 2, 3],\n",
    "                   [4, 5, 6],\n",
    "                   [7, 8, 9]])\n",
    "\n",
    "vector = np.array([10, 20, 30])\n",
    "\n",
    "result = matrix + vector\n",
    "\n",
    "print(\"Matrix:\")\n",
    "print(matrix)\n",
    "print(\"\\nVector:\")\n",
    "print(vector)\n",
    "print(\"\\nResult of broadcasting:\")\n",
    "print(result)\n"
   ]
  },
  {
   "cell_type": "markdown",
   "id": "7a74ea1a-a16f-4155-af2f-907cdd37a4fa",
   "metadata": {},
   "source": [
    "Q13"
   ]
  },
  {
   "cell_type": "code",
   "execution_count": 16,
   "id": "f7be8456-7347-487a-996f-ab5fc1c91610",
   "metadata": {},
   "outputs": [
    {
     "name": "stdout",
     "output_type": "stream",
     "text": [
      "Computed index: 3\n",
      "Verification with np.argmin: 3\n"
     ]
    }
   ],
   "source": [
    "\n",
    "import numpy as np\n",
    "\n",
    "def compute_argmin(arr):\n",
    "    min_index = 0\n",
    "    for i in range(1, len(arr)):\n",
    "        if arr[i] < arr[min_index]:\n",
    "            min_index = i\n",
    "    return min_index\n",
    "\n",
    "arr = np.array([5, 2, 9, 1, 5, 6])\n",
    "result = compute_argmin(arr)\n",
    "print(\"Computed index:\", result)\n",
    "print(\"Verification with np.argmin:\", np.argmin(arr))\n",
    "\n"
   ]
  }
 ],
 "metadata": {
  "kernelspec": {
   "display_name": "Python 3 (ipykernel)",
   "language": "python",
   "name": "python3"
  },
  "language_info": {
   "codemirror_mode": {
    "name": "ipython",
    "version": 3
   },
   "file_extension": ".py",
   "mimetype": "text/x-python",
   "name": "python",
   "nbconvert_exporter": "python",
   "pygments_lexer": "ipython3",
   "version": "3.12.4"
  }
 },
 "nbformat": 4,
 "nbformat_minor": 5
}
